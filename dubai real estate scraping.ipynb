{
 "cells": [
  {
   "cell_type": "code",
   "execution_count": 129,
   "id": "e3a73ee0",
   "metadata": {},
   "outputs": [],
   "source": [
    "import requests\n",
    "from bs4 import BeautifulSoup\n",
    "import pandas as pd\n",
    "from csv import writer"
   ]
  },
  {
   "cell_type": "code",
   "execution_count": 134,
   "id": "ccfc2aa0",
   "metadata": {},
   "outputs": [],
   "source": [
    "#get the data\n",
    "with open('houses.csv','a',encoding='utf-8', newline='') as f:\n",
    "        thewriter=writer(f)\n",
    "        header=['Title','Location','Area','Price']\n",
    "        thewriter.writerow(header)\n",
    "        \n",
    "        for i in range(121):\n",
    "            url='https://www.propertyfinder.ae/en/search?am[]=AC&bdr[]=0&bdr[]=1&btr[]=1&c=2&fu=2&l=1-4&ob=mr&page='+ str(i+1)+'&rp=y&t=1'\n",
    "            data=requests.get(url)\n",
    "            #load data into bs4\n",
    "            soup=BeautifulSoup(data.text, 'html.parser')\n",
    "            soup2=BeautifulSoup(data.content, 'html.parser')\n",
    "            lists=soup.find_all('div', class_='card-list__item')\n",
    "            for list in lists:\n",
    "                title=list.find('h2', class_='card__title card__title-link').text.replace('\\n','')\n",
    "                price=list.find('span', class_='card__price-value').text.replace('\\n','')\n",
    "                location=list.find('span', class_='card__location-text').text.replace('\\n','')\n",
    "                area=list.find('p', class_='card__property-amenity card__property-amenity--area').text.replace('\\n','')\n",
    "                info=[title,location,area,price]\n",
    "                thewriter.writerow(info)\n",
    "                  "
   ]
  }
 ],
 "metadata": {
  "kernelspec": {
   "display_name": "Python 3 (ipykernel)",
   "language": "python",
   "name": "python3"
  },
  "language_info": {
   "codemirror_mode": {
    "name": "ipython",
    "version": 3
   },
   "file_extension": ".py",
   "mimetype": "text/x-python",
   "name": "python",
   "nbconvert_exporter": "python",
   "pygments_lexer": "ipython3",
   "version": "3.9.7"
  }
 },
 "nbformat": 4,
 "nbformat_minor": 5
}
